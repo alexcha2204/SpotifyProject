{
 "cells": [
  {
   "cell_type": "code",
   "execution_count": null,
   "metadata": {},
   "outputs": [],
   "source": [
    "import pandas as pd\n",
    "import spotipy\n",
    "from spotipy.oauth2 import SpotifyOAuth\n",
    "from azure.storage.blob import BlobServiceClient\n",
    "from collections import defaultdict, Counter\n",
    "import json\n",
    "import re"
   ]
  },
  {
   "cell_type": "code",
   "execution_count": null,
   "metadata": {},
   "outputs": [],
   "source": [
    "connection_string = \"YOUR_CONNECTION_STRING\"\n",
    "container_name = \"CONTAINER_NAME\"\n",
    "\n",
    "blob_service_client = BlobServiceClient.from_connection_string(connection_string)\n",
    "container_client = blob_service_client.get_container_client(container_name)"
   ]
  },
  {
   "cell_type": "code",
   "execution_count": null,
   "metadata": {},
   "outputs": [],
   "source": [
    "blob_name = \"music_data.csv\"\n",
    "if container_client.exists():\n",
    "    blob_client = container_client.get_blob_client(blob_name)\n",
    "    \n",
    "    with open('music_data.csv', \"wb\") as my_blob:\n",
    "        blob_data = blob_client.download_blob()\n",
    "        my_blob.write(blob_data.readall())\n",
    "    \n",
    "    df = pd.read_csv(\"music_data.csv\")\n",
    "else:\n",
    "    print(f\"Container '{container_name}' does not exist.\")"
   ]
  },
  {
   "cell_type": "code",
   "execution_count": null,
   "metadata": {},
   "outputs": [],
   "source": [
    "blob_name = \"genres.json\"\n",
    "blob_client = container_client.get_blob_client(blob_name)\n",
    "downloaded_content = blob_client.download_blob().readall()\n",
    "\n",
    "artist_genres = json.loads(downloaded_content.decode(\"utf-8\"))"
   ]
  },
  {
   "cell_type": "code",
   "execution_count": null,
   "metadata": {},
   "outputs": [],
   "source": [
    "df "
   ]
  },
  {
   "cell_type": "code",
   "execution_count": null,
   "metadata": {},
   "outputs": [],
   "source": [
    "len(artist_genres.keys())"
   ]
  },
  {
   "cell_type": "code",
   "execution_count": null,
   "metadata": {},
   "outputs": [],
   "source": [
    "strings_columns = ['artist_name','artist_id','first_song','first_album','first_album_type', 'last_song','last_album','last_album_type']\n",
    "datetime_columns = ['first_added','last_added']\n",
    "\n",
    "for string_col in strings_columns:\n",
    "    df[string_col] = df[string_col].astype(str)\n",
    "\n",
    "for datetime_col in datetime_columns:\n",
    "    df[datetime_col] = pd.to_datetime(df[datetime_col])"
   ]
  },
  {
   "cell_type": "code",
   "execution_count": null,
   "metadata": {},
   "outputs": [],
   "source": [
    "df.info()"
   ]
  },
  {
   "cell_type": "code",
   "execution_count": null,
   "metadata": {},
   "outputs": [],
   "source": [
    "def find_most_common_words(strings_list):\n",
    "    # Concatenate strings into a single string\n",
    "    full_text = ' '.join(strings_list)\n",
    "\n",
    "    # Use regex to tokenize the string into words\n",
    "    words = re.findall(r'\\b\\w+\\b', full_text.lower())  # Case insensitive\n",
    "\n",
    "    # Count occurrences of each word\n",
    "    word_counts = Counter(words)\n",
    "\n",
    "    # Find the most common words\n",
    "    most_common_words = word_counts.most_common(1000)  # Adjust the number as needed\n",
    "\n",
    "    return most_common_words"
   ]
  },
  {
   "cell_type": "code",
   "execution_count": null,
   "metadata": {},
   "outputs": [],
   "source": [
    "user_genres = list(artist_genres.keys())\n",
    "common_user_genres_result = find_most_common_words(user_genres)\n",
    "for word, count in common_user_genres_result:\n",
    "    print(f\"{word}: {count}\")"
   ]
  },
  {
   "cell_type": "code",
   "execution_count": null,
   "metadata": {},
   "outputs": [],
   "source": [
    "# Specify the words to be removed\n",
    "# we are mainly focusing on this two since it's meant to be \"r&b\" together\n",
    "words_to_remove = {'r', 'b'} \n",
    "\n",
    "# Filter out the unwanted words\n",
    "filtered_result = [(word, count) for word, count in common_user_genres_result if word not in words_to_remove]\n",
    "filtered_result.append((\"r&b\", 26)) # adding a new tuple for the r&b incident\n",
    "\n",
    "common_user_genres_dict = defaultdict(list)\n",
    "for word, count in filtered_result:   \n",
    "    for genre in user_genres:\n",
    "        if word in genre:\n",
    "            common_user_genres_dict[word].append(genre)"
   ]
  },
  {
   "cell_type": "code",
   "execution_count": null,
   "metadata": {},
   "outputs": [],
   "source": [
    "common_user_genres_keys = sorted(common_user_genres_dict.keys())\n",
    "for word in common_user_genres_keys:\n",
    "    print(f\"{word}: {len(common_user_genres_dict[word])} : {common_user_genres_dict[word]}\")"
   ]
  },
  {
   "cell_type": "code",
   "execution_count": null,
   "metadata": {},
   "outputs": [],
   "source": [
    "years = sorted(df['first_added'].dt.year.unique())\n",
    "print(years)"
   ]
  },
  {
   "cell_type": "code",
   "execution_count": null,
   "metadata": {},
   "outputs": [],
   "source": [
    "one_song_liked = df[df['amount_of_liked_songs'] == 1]\n",
    "one_song_liked"
   ]
  },
  {
   "cell_type": "code",
   "execution_count": null,
   "metadata": {},
   "outputs": [],
   "source": [
    "for year in years:\n",
    "    print(f\"{year} : {len(one_song_liked[one_song_liked['first_added'].dt.year == year])}\")"
   ]
  }
 ],
 "metadata": {
  "kernelspec": {
   "display_name": "Python 3",
   "language": "python",
   "name": "python3"
  },
  "language_info": {
   "codemirror_mode": {
    "name": "ipython",
    "version": 3
   },
   "file_extension": ".py",
   "mimetype": "text/x-python",
   "name": "python",
   "nbconvert_exporter": "python",
   "pygments_lexer": "ipython3",
   "version": "3.11.3"
  },
  "orig_nbformat": 4
 },
 "nbformat": 4,
 "nbformat_minor": 2
}
